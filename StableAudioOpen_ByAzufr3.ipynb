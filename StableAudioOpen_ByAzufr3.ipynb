{
  "nbformat": 4,
  "nbformat_minor": 0,
  "metadata": {
    "colab": {
      "provenance": [],
      "authorship_tag": "ABX9TyNoEmL7aiJuMhAXE92YF5Cj",
      "include_colab_link": true
    },
    "kernelspec": {
      "name": "python3",
      "display_name": "Python 3"
    },
    "language_info": {
      "name": "python"
    }
  },
  "cells": [
    {
      "cell_type": "markdown",
      "metadata": {
        "id": "view-in-github",
        "colab_type": "text"
      },
      "source": [
        "<a href=\"https://colab.research.google.com/github/az1fr3/Flowfield_Track/blob/master/StableAudioOpen_ByAzufr3.ipynb\" target=\"_parent\"><img src=\"https://colab.research.google.com/assets/colab-badge.svg\" alt=\"Open In Colab\"/></a>"
      ]
    },
    {
      "cell_type": "code",
      "execution_count": null,
      "metadata": {
        "id": "CSEcmH_1WCUi"
      },
      "outputs": [],
      "source": [
        "#\n",
        "# _____ _        _     _         ___            _ _         _\n",
        "#/  ___| |      | |   | |       / _ \\          | (_)       | |          _\n",
        "#\\ `--.| |_ __ _| |__ | | ___  / /_\\ \\_   _  __| |_  ___   | |__  _   _(_)\n",
        "# `--. \\ __/ _` | '_ \\| |/ _ \\ |  _  | | | |/ _` | |/ _ \\  | '_ \\| | | |\n",
        "#/\\__/ / || (_| | |_) | |  __/ | | | | |_| | (_| | | (_) | | |_) | |_| |_\n",
        "#\\____/ \\__\\__,_|_.__/|_|\\___| \\_| |_/\\__,_|\\__,_|_|\\___/  |_.__/ \\__, (_)\n",
        "#                                                                 __/ |\n",
        "#                                                                |___/\n",
        "\n",
        "#  █████╗ ███████╗ ██╗███████╗██████╗ ██████╗\n",
        "# ██╔═██╗╚══███╔╝███║██╔════╝██╔══██╗╚════██╗\n",
        "# ███████║  ███╔╝ ╚██║█████╗  ██████╔╝ █████╔╝\n",
        "# ██╔══██║ ███╔╝   ██║██╔══╝  ██╔══██╗ ╚═══██╗\n",
        "# ██║  ██║███████╗ ██║██║     ██║  ██║██████╔╝\n",
        "# ╚═╝  ╚═╝╚══════╝ ╚═╝╚═╝     ╚═╝  ╚═╝╚═════╝\n",
        "# ▒▒   ▓▒█░░▒▒ ▓░▒░▒ ▒ ░    ░ ▒▓ ░▒▓░\n",
        "#   ▒   ▒▒ ░░░▒ ▒ ░ ▒ ░        ░▒ ░ ▒░\n",
        "#   ░   ▒   ░ ░ ░ ░ ░ ░ ░      ░░   ░\n",
        "#       ░  ░  ░ ░               ░\n",
        "#           ░\n",
        "#\n",
        "# Sigueme para más! : https://linktr.ee/az1fr3\n",
        "# Chequear el funcionamiento de NVIDIA, si te arroja algún error, en el menú ve a entorno de ejecución y activa la gpu Nvidia Tesla T4\n",
        "# Para información sobre audigen visita su Github: https://github.com/facebookresearch/audiocraft\n",
        "#Música opcional para esperar las descargas ^^ ░░░░░░░░░░░░░░░░░░░░░░░░░░░░░░░░░░░░░░░░░░░░░░░░░░░░░░░░░░░░░░░░░░░░░#|\n",
        "!wget -q \"https://ia601209.us.archive.org/20/items/Chiptune_Songs_Archive/McFiredrill%20-%20Computer%20Trash/04%20-%20Vitamin%20D.mp3\" -O keygenmusic.mp3\n",
        "from IPython.display import Audio; display(Audio(\"keygenmusic.mp3\", autoplay=True))\n",
        "!nvidia-smi\n",
        "\n",
        "#Instalar las dependencias\n",
        "!pip install torch\n",
        "!pip Install torchaudio\n",
        "!pip install stable-audio-tools\n",
        "!pip install einops\n",
        "\n",
        "import torch\n",
        "import torchaudio\n",
        "from einops import rearrange\n",
        "from stable_audio_tools import get_pretrained_model\n",
        "from stable_audio_tools.inference.generation import generate_diffusion_cond\n",
        "from google.colab import userdata\n",
        "userdata.get('StableAudio')\n",
        "\n",
        "#Este comando nos permite correr la app en la cpu sin necesidad de tener una GPU cuda.\n",
        "device = \"cuda\" if torch.cuda.is_available() else \"cpu\"\n",
        "\n",
        "# Descarga el modelo:\n",
        "model, model_config = get_pretrained_model(\"audo/stable-audio-open-1.0\") # Gracias a @Camenduru por el modelo de libre acceso!\n",
        "sample_rate = model_config[\"sample_rate\"]\n",
        "sample_size = model_config[\"sample_size\"]\n",
        "\n",
        "model = model.to(device)\n"
      ]
    },
    {
      "cell_type": "code",
      "source": [
        "# Setup General\n",
        "conditioning = [{\n",
        "    \"prompt\": \"128 BPM Dub techno loop\", #Escribe entre las comillas tu comando para generar\n",
        "    \"seconds_start\": 0,\n",
        "    \"seconds_total\": 47 # Modifica este numero para acceder\n",
        "}]\n",
        "\n",
        "# Generate stereo audio\n",
        "output = generate_diffusion_cond(\n",
        "    model,\n",
        "    steps=100,\n",
        "    cfg_scale=7,\n",
        "    conditioning=conditioning,\n",
        "    sample_size=sample_size,\n",
        "    sigma_min=0.3,\n",
        "    sigma_max=500,\n",
        "    sampler_type=\"dpmpp-3m-sde\",\n",
        "    device=device\n",
        ")\n",
        "\n",
        "# Rearrange audio batch to a single sequence\n",
        "output = rearrange(output, \"b d n -> d (b n)\")\n",
        "\n",
        "# Peak normalize, clip, convert to int16, and save to file\n",
        "output = output.to(torch.float32).div(torch.max(torch.abs(output))).clamp(-1, 1).mul(32767).to(torch.int16).cpu()\n",
        "torchaudio.save(\"output.wav\", output, sample_rate)\n",
        "\n",
        "from IPython.display import Audio, display\n",
        "display(Audio(\"/content/output.wav\", autoplay=True))\n",
        "\n",
        "#Si te gustó este notebook considera dejarme una propina en Kofi:\n",
        "#o considera sumarte a mi Patreon y tener acceso a las herramientas mejoradas de AI:"
      ],
      "metadata": {
        "id": "Yq_RZR2zWEEA"
      },
      "execution_count": null,
      "outputs": []
    }
  ]
}